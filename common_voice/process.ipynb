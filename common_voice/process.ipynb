{
 "cells": [
  {
   "cell_type": "code",
   "execution_count": 21,
   "metadata": {},
   "outputs": [],
   "source": [
    "import re\n",
    "\n",
    "han_regex = re.compile(\n",
    "    r'[\\u3006\\u3007\\u4e00-\\u9fff\\u3400-\\u4dbf\\U00020000-\\U0002a6df\\U0002a700-\\U0002ebef\\U00030000-\\U0003134f]')\n",
    "def is_han(c): return bool(han_regex.fullmatch(c))\n",
    "def all_han(s): return all(is_han(c) for c in s)\n",
    "\n",
    "# punctuation = re.compile(r'[，。？！：；“”、/]')\n",
    "error_char = re.compile(r'[系吧這哪是她們了和的甘嗎在別不麼無才]')\n",
    "def has_error_char(s): return bool(error_char.search(s))\n",
    "\n",
    "lines = open(\"qq.txt\", \"r\",encoding=\"utf-8\").readlines()\n",
    "\n",
    "# 將啲冇標點符號嘅句子都篩出嚟\n",
    "# 將含有易錯詞嘅句子全部踢走\n",
    "sentences = []\n",
    "for line in lines:\n",
    "    s = line.strip()\n",
    "    if len(s) > 30 or len(s) < 5:\n",
    "        continue\n",
    "    if has_error_char(s):\n",
    "        continue\n",
    "    if all_han(s):\n",
    "        sentences.append(s)\n",
    "    "
   ]
  },
  {
   "cell_type": "code",
   "execution_count": 22,
   "metadata": {},
   "outputs": [],
   "source": [
    "with open('sentences.txt', 'w' , encoding=\"utf-8\") as f:\n",
    "    for s in sentences:\n",
    "        f.write(\"%s\\n\" % s)"
   ]
  }
 ],
 "metadata": {
  "interpreter": {
   "hash": "13eb0af71620a846e484681143862ad0a4deab6cadfc353264e5c14897c11035"
  },
  "kernelspec": {
   "display_name": "Python 3.9.9 64-bit",
   "language": "python",
   "name": "python3"
  },
  "language_info": {
   "codemirror_mode": {
    "name": "ipython",
    "version": 3
   },
   "file_extension": ".py",
   "mimetype": "text/x-python",
   "name": "python",
   "nbconvert_exporter": "python",
   "pygments_lexer": "ipython3",
   "version": "3.9.9"
  },
  "orig_nbformat": 4
 },
 "nbformat": 4,
 "nbformat_minor": 2
}
